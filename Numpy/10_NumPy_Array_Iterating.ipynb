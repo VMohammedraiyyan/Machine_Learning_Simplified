{
 "cells": [
  {
   "cell_type": "markdown",
   "metadata": {},
   "source": [
    "10. NumPy Array Iterating:\n",
    "\n",
    "Iterating means going through elements one by one.\n",
    "As we deal with multi-dimensional arrays in numpy, we can do this using basic for loop of python.\n",
    "If we iterate on a 1-D array it will go through each element one by one."
   ]
  },
  {
   "cell_type": "code",
   "execution_count": 1,
   "metadata": {},
   "outputs": [
    {
     "name": "stdout",
     "output_type": "stream",
     "text": [
      "1\n",
      "2\n",
      "3\n"
     ]
    }
   ],
   "source": [
    "# 1-D Array\n",
    "import numpy as np\n",
    "\n",
    "arr = np.array([1,2,3])\n",
    "\n",
    "for x in arr:\n",
    "    print(x)"
   ]
  },
  {
   "cell_type": "code",
   "execution_count": 2,
   "metadata": {},
   "outputs": [
    {
     "name": "stdout",
     "output_type": "stream",
     "text": [
      "[1 2 3]\n",
      "[4 5 6]\n"
     ]
    }
   ],
   "source": [
    "# 2-D Array\n",
    "import numpy as np\n",
    "\n",
    "arr = np.array([[1,2,3],[4,5,6]])\n",
    "\n",
    "for x in arr:\n",
    "    print(x)"
   ]
  },
  {
   "cell_type": "code",
   "execution_count": 3,
   "metadata": {},
   "outputs": [
    {
     "name": "stdout",
     "output_type": "stream",
     "text": [
      "1\n",
      "2\n",
      "3\n",
      "4\n",
      "5\n",
      "6\n"
     ]
    }
   ],
   "source": [
    "import numpy as np\n",
    "\n",
    "arr = ([[1,2,3],[4,5,6]])\n",
    "\n",
    "# Iterate down the scalar\n",
    "for x in arr:\n",
    "    for y in x:\n",
    "        print(y)"
   ]
  },
  {
   "cell_type": "code",
   "execution_count": 4,
   "metadata": {},
   "outputs": [
    {
     "name": "stdout",
     "output_type": "stream",
     "text": [
      "[[1 2 3]\n",
      " [4 5 6]]\n",
      "[[ 7  8  9]\n",
      " [10 11 12]]\n"
     ]
    }
   ],
   "source": [
    "# 3-D Array\n",
    "import numpy as np\n",
    "\n",
    "arr = np.array([[[1,2,3],[4,5,6]],[[7,8,9],[10,11,12]]])\n",
    "\n",
    "for x in arr:\n",
    "    print(x)"
   ]
  },
  {
   "cell_type": "code",
   "execution_count": 5,
   "metadata": {},
   "outputs": [
    {
     "name": "stdout",
     "output_type": "stream",
     "text": [
      "1\n",
      "2\n",
      "3\n",
      "4\n",
      "5\n",
      "6\n",
      "7\n",
      "8\n",
      "9\n",
      "10\n",
      "11\n",
      "12\n"
     ]
    }
   ],
   "source": [
    "import numpy as np\n",
    "\n",
    "ar = np.array([[[1,2,3],[4,5,6]],[[7,8,9],[10,11,12]]])\n",
    "\n",
    "for x in ar:\n",
    "    for y in x:\n",
    "        for z in y:\n",
    "            print(z)"
   ]
  },
  {
   "cell_type": "markdown",
   "metadata": {},
   "source": [
    "Note1: Iterating Array using nditer():-\n",
    "\n",
    "The function nditer() is a helping function that can be used from very basic to very advanced iterations.\n",
    "It solves some basic issues which we face in iteration, lets go through it with examples."
   ]
  },
  {
   "cell_type": "code",
   "execution_count": 6,
   "metadata": {},
   "outputs": [
    {
     "name": "stdout",
     "output_type": "stream",
     "text": [
      "1\n",
      "2\n",
      "4\n",
      "5\n",
      "6\n",
      "7\n",
      "8\n",
      "9\n"
     ]
    }
   ],
   "source": [
    "import numpy as np\n",
    "\n",
    "arr = np.array([[[1,2],[4,5]],[[6,7],[8,9]]])\n",
    "\n",
    "for x in np.nditer(arr):\n",
    "    print(x)"
   ]
  },
  {
   "cell_type": "code",
   "execution_count": 7,
   "metadata": {},
   "outputs": [
    {
     "name": "stdout",
     "output_type": "stream",
     "text": [
      "1\n",
      "2\n",
      "3\n",
      "4\n",
      "5\n",
      "6\n",
      "7\n",
      "8\n",
      "9\n",
      "10\n",
      "11\n",
      "12\n"
     ]
    }
   ],
   "source": [
    "import numpy as np\n",
    "\n",
    "ar = np.array([[[1,2,3],[4,5,6]],[[7,8,9],[10,11,12]]])\n",
    "\n",
    "for x in np.nditer(ar):\n",
    "    print(x)"
   ]
  },
  {
   "cell_type": "markdown",
   "metadata": {},
   "source": [
    "Note2: Enumerated Iteration Using ndenumerate():-\n",
    "\n",
    "Enumeration means mentioning sequence number of somethings one by one.\n",
    "Sometimes we require corresponding index of the element while iterating, the ndenumerate() method can be used for those usecases."
   ]
  },
  {
   "cell_type": "code",
   "execution_count": 8,
   "metadata": {},
   "outputs": [
    {
     "name": "stdout",
     "output_type": "stream",
     "text": [
      "(0,) 1\n",
      "(1,) 2\n",
      "(2,) 3\n"
     ]
    }
   ],
   "source": [
    "import numpy as np\n",
    "\n",
    "# 1-D\n",
    "arr = np.array([1, 2, 3])\n",
    "\n",
    "for idx, x in np.ndenumerate(arr):\n",
    "    print(idx, x)"
   ]
  },
  {
   "cell_type": "code",
   "execution_count": null,
   "metadata": {},
   "outputs": [],
   "source": []
  }
 ],
 "metadata": {
  "kernelspec": {
   "display_name": "Python 3",
   "language": "python",
   "name": "python3"
  },
  "language_info": {
   "codemirror_mode": {
    "name": "ipython",
    "version": 3
   },
   "file_extension": ".py",
   "mimetype": "text/x-python",
   "name": "python",
   "nbconvert_exporter": "python",
   "pygments_lexer": "ipython3",
   "version": "3.7.6"
  }
 },
 "nbformat": 4,
 "nbformat_minor": 4
}
